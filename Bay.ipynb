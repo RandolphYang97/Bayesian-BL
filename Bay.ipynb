{
 "cells": [
  {
   "cell_type": "markdown",
   "metadata": {},
   "source": [
    "*  This program examines \n",
    "*                  how the estimator of expected return \n",
    "*                                  is affected by different priors  "
   ]
  },
  {
   "cell_type": "code",
   "execution_count": 6,
   "metadata": {},
   "outputs": [
    {
     "name": "stdout",
     "output_type": "stream",
     "text": [
      "(Monthly) Mean,   Std  \n",
      "\n",
      "        -0.0048   0.0580\n",
      " \n"
     ]
    }
   ],
   "source": [
    "import pandas as pd                     # To load data, we use the package pandas\n",
    "import numpy as np\n",
    "\n",
    "# Load the monthly return of SP500 from 01/1934 to 12/2011\n",
    "\n",
    "df = pd.read_excel('SP500.xlsx')  \n",
    "Re = df.loc[:,\"Return\"]\n",
    "\n",
    "T0 = len(df)             # Get the length, # of obvs (the headers of the Excel doesn't count)\n",
    "\n",
    "\n",
    "T = 6                     # assumed sample size or months of data available    \n",
    "\n",
    "R = Re[(T0-T):T0]          # get the most recent T months of data\n",
    "                            # We assume these are our available observations\n",
    "    \n",
    "mu = np.mean(R)             #   compute the mean based on last T period data\n",
    "V = np.var(R)               # compute the sample variance based on last T period data\n",
    "s = np.sqrt(V)                  #  the standard deviation\n",
    "\n",
    "print('(Monthly) Mean,   Std  \\n')\n",
    "print('        {0:.4f}   {1:.4f}\\n '.format(mu, s))    "
   ]
  },
  {
   "cell_type": "code",
   "execution_count": 7,
   "metadata": {},
   "outputs": [
    {
     "name": "stdout",
     "output_type": "stream",
     "text": [
      "  Sampe Mean,   Bayesian mean   \n",
      "\n",
      "        -0.0048   0.0078\n",
      " \n"
     ]
    }
   ],
   "source": [
    "#   Bayesian updating\n",
    "\n",
    "mu0 = 0.12/12;              #  prior monthly mean is 1%\n",
    "s0=0.01;                   #  prior monthly vol or standard deviation  \n",
    "\n",
    "w=(s*s/T) / ( s0*s0 + s*s/T )     #  the weight on prior mean\n",
    "\n",
    "bmu= w*mu0 + (1-w)*mu       #  The Bayesian mean \n",
    "\n",
    "print('  Sampe Mean,   Bayesian mean   \\n')\n",
    "print('        {0:.4f}   {1:.4f}\\n '.format(mu, bmu))   "
   ]
  },
  {
   "cell_type": "code",
   "execution_count": 6,
   "metadata": {},
   "outputs": [
    {
     "name": "stdout",
     "output_type": "stream",
     "text": [
      "The percentage of up months \n",
      "\n",
      "          0.62 \n",
      "\n"
     ]
    }
   ],
   "source": [
    "# Q1:  Percentage of up returns?\n",
    "     \n",
    "Up = 0\n",
    "\n",
    "for j in range(T): \n",
    "    if Re[j]>0:\n",
    "        Up = Up+1\n",
    "\n",
    "UpPer = Up/T\n",
    "\n",
    "print('The percentage of up months \\n')\n",
    "print('          {0:.2f} \\n'.format(UpPer)) "
   ]
  },
  {
   "cell_type": "code",
   "execution_count": 7,
   "metadata": {},
   "outputs": [
    {
     "name": "stdout",
     "output_type": "stream",
     "text": [
      "Q2: The accumulative return if we miss 5% of the best months? \n",
      "\n",
      "          29.89\n",
      "\n"
     ]
    }
   ],
   "source": [
    "# Q2: What is the accumulative return if we miss 5% of the best returns ?\n",
    "# Assuming earning the average riskfree rate of 4%/12 in those missing months                        \n",
    "                        \n",
    "ReturnS = sorted(Re)    # Sort the returns in increasing order\n",
    "\n",
    "T1 = .05 * T             #  5% of the sample\n",
    "T1 = round(T1)           # Round the number to an integer\n",
    "\n",
    "Value1 = 1\n",
    "\n",
    "for i in range(T-T1):\n",
    "    Value1 = Value1 * (1 + ReturnS[i])\n",
    "\n",
    "for i in range(T - T1 + 1, T):\n",
    "    Value1 = Value1 * (1 + 0.04/12)\n",
    "\n",
    "print('Q2: The accumulative return if we miss 5% of the best months? \\n')\n",
    "print('          {0:.2f}\\n'.format(Value1))"
   ]
  },
  {
   "cell_type": "code",
   "execution_count": 8,
   "metadata": {},
   "outputs": [
    {
     "name": "stdout",
     "output_type": "stream",
     "text": [
      "[0.51259035]\n"
     ]
    }
   ],
   "source": [
    "# Q3: What is the max drawdown, the largest % drop from a previous peak  \n",
    "# Assuming earning the average riskfree rate of 4%/12 in those missing months                        \n",
    "                        \n",
    "# Since the algorithm (see the zip file) requires prices as input, we translate the\n",
    "# returns into prices first (the starting price can be set as 100)\n",
    " \n",
    "P = 100*np.ones((T,1))     # initial values\n",
    "\n",
    "MDD = 0\n",
    "Worst = 0\n",
    "             # using the algorithm in the file\n",
    "max = -99\n",
    "Worst = np.amin(Re)         # the minimum of an array, the return here\n",
    "\n",
    "Ptemp = 100                # need a temp to execute P[j+1]=P[j]*(1+Re[j]), so that\n",
    "                             # P[j+1] is stored as P[j], to avoid index out of range in Python\n",
    "\n",
    "for j in range(T): \n",
    "    Ptemp=Ptemp*(1+Re[j])        # convert to prices;\n",
    "    P[j]=Ptemp   \n",
    "    if P[j]>max:\n",
    "        max=P[j]\n",
    "    DD=100*(max-P[j]) / max\n",
    "    if DD>MDD:\n",
    "        MDD=DD\n",
    "        \n",
    "MDD = MDD / 100             # in percentage \n",
    "print(MDD)"
   ]
  },
  {
   "cell_type": "code",
   "execution_count": 9,
   "metadata": {},
   "outputs": [],
   "source": [
    "# Simulate T normal random varables with the same mean and varance  \n",
    "\n",
    "e = np.random.randn(T,1)     # Generate data from N(0,1), T by 1  \n",
    "\n",
    "RN = np.ones((T,1))          # create the storage\n",
    "\n",
    "for i in range(T):           # transform the data so that its mean and variance match the mkt\n",
    "     RN[i]=mu + sigma*e[i]          # RN = mu*np.ones((T,1)) + sigma*e does the same, but \n",
    "                                    # month by month may be easier to understand\n",
    " \n"
   ]
  },
  {
   "cell_type": "code",
   "execution_count": 10,
   "metadata": {},
   "outputs": [
    {
     "data": {
      "image/png": "[encoded data removed]",
      "text/plain": [
       "<Figure size 432x288 with 1 Axes>"
      ]
     },
     "metadata": {
      "needs_background": "light"
     },
     "output_type": "display_data"
    }
   ],
   "source": [
    "# plot the returns and simulated returns\n",
    "\n",
    "p=plt.plot(Re)\n",
    "p1 = plt.plot(RN)"
   ]
  },
  {
   "cell_type": "code",
   "execution_count": 64,
   "metadata": {},
   "outputs": [
    {
     "data": {
      "image/png": "[encoded data removed]",
      "text/plain": [
       "<Figure size 432x288 with 1 Axes>"
      ]
     },
     "metadata": {
      "needs_background": "light"
     },
     "output_type": "display_data"
    }
   ],
   "source": [
    "# plot the histogram of returns and simulated returns\n",
    "\n",
    "p=plt.hist(Re)\n",
    "p1 = plt.hist(RN)"
   ]
  },
  {
   "cell_type": "code",
   "execution_count": null,
   "metadata": {},
   "outputs": [],
   "source": []
  }
 ],
 "metadata": {
  "anaconda-cloud": {},
  "kernelspec": {
   "display_name": "Python 3",
   "language": "python",
   "name": "python3"
  },
  "language_info": {
   "codemirror_mode": {
    "name": "ipython",
    "version": 3
   },
   "file_extension": ".py",
   "mimetype": "text/x-python",
   "name": "python",
   "nbconvert_exporter": "python",
   "pygments_lexer": "ipython3",
   "version": "3.7.6"
  }
 },
 "nbformat": 4,
 "nbformat_minor": 1
}
